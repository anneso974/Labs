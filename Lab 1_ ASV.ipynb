{
 "cells": [
  {
   "cell_type": "code",
   "execution_count": 40,
   "metadata": {},
   "outputs": [
    {
     "data": {
      "text/plain": [
       "True"
      ]
     },
     "execution_count": 40,
     "metadata": {},
     "output_type": "execute_result"
    }
   ],
   "source": [
    "'''1) Verify if a value is integer'''\n",
    "n=6\n",
    "n==int(n)"
   ]
  },
  {
   "cell_type": "code",
   "execution_count": 36,
   "metadata": {},
   "outputs": [
    {
     "name": "stdout",
     "output_type": "stream",
     "text": [
      "n=2\n",
      "m=2\n"
     ]
    },
    {
     "data": {
      "text/plain": [
       "True"
      ]
     },
     "execution_count": 36,
     "metadata": {},
     "output_type": "execute_result"
    }
   ],
   "source": [
    "'''2) Verify if a value is even'''\n",
    "n=input(\"n=\")\n",
    "m=input(\"m=\")\n",
    "n==m"
   ]
  },
  {
   "cell_type": "code",
   "execution_count": 43,
   "metadata": {},
   "outputs": [
    {
     "name": "stdout",
     "output_type": "stream",
     "text": [
      "a=5\n",
      "b=4\n"
     ]
    },
    {
     "data": {
      "text/plain": [
       "True"
      ]
     },
     "execution_count": 43,
     "metadata": {},
     "output_type": "execute_result"
    }
   ],
   "source": [
    "'''3) Insert two numbers. Is the first is bigger than the second?'''\n",
    "a=input(\"a=\")\n",
    "b=input(\"b=\")\n",
    "a>=b"
   ]
  },
  {
   "cell_type": "code",
   "execution_count": 49,
   "metadata": {},
   "outputs": [
    {
     "data": {
      "text/plain": [
       "True"
      ]
     },
     "execution_count": 49,
     "metadata": {},
     "output_type": "execute_result"
    }
   ],
   "source": [
    "'''4) Verify if one value is multiple of another'''\n",
    "a=9\n",
    "b=18\n",
    "b%a==0"
   ]
  },
  {
   "cell_type": "code",
   "execution_count": null,
   "metadata": {},
   "outputs": [],
   "source": [
    "'''5) Calculate the interest earn by an investor that invested a capital of 200 during 3 years with an interest rate of 3%. (I=P*R*T)'''\n",
    "capital= 200\n",
    "time=3\n",
    "rate=0.03\n",
    "\n",
    "interest= capital*time*rate\n",
    "print(interest)"
   ]
  },
  {
   "cell_type": "code",
   "execution_count": null,
   "metadata": {},
   "outputs": [],
   "source": [
    "'''6) Capital that an investor obtained after investing a capital of 200 during 3 years with an interest rate of 3%. (Compoundinterest)'''\n",
    "pv=200\n",
    "N=3\n",
    "n=1\n",
    "r=0.03\n",
    "fv= pv*(1+r/n)**(n*N)\n",
    "print(fv)"
   ]
  },
  {
   "cell_type": "code",
   "execution_count": null,
   "metadata": {},
   "outputs": [],
   "source": [
    " '''7) Calculate your BMI (Body Mass Index)'''\n",
    "weight= 55\n",
    "height= 1.54\n",
    "BMI= weight/(height**2)\n",
    "print(BMI)"
   ]
  },
  {
   "cell_type": "code",
   "execution_count": null,
   "metadata": {},
   "outputs": [],
   "source": [
    "'''8) Calcule the Golden ration:'''\n",
    "gr=(1+5**(1/2))/2\n",
    "print(gr)"
   ]
  },
  {
   "cell_type": "code",
   "execution_count": 2,
   "metadata": {},
   "outputs": [
    {
     "name": "stdout",
     "output_type": "stream",
     "text": [
      "3139.440301519393\n"
     ]
    }
   ],
   "source": [
    "'''9) Calculete the NPV (Net present value) of an investment, considering an initial investment of 10000, the following Cashflows2000,3000, 4000, 4000 and 5000 and a discount rate of 10%'''\n",
    "fv1=2000\n",
    "fv2=3000\n",
    "fv3=4000\n",
    "fv4=4000\n",
    "fv5=5000\n",
    "I=10000\n",
    "r=0.1\n",
    "\n",
    "NPV= fv1/(1+r)+fv2/(1+r)**2+fv3/(1+r)**3+fv4/(1+r)**4+fv5/(1+r)**5 -I\n",
    "print(NPV)"
   ]
  },
  {
   "cell_type": "code",
   "execution_count": null,
   "metadata": {},
   "outputs": [],
   "source": [
    "'''10) Ask the user to insert name and age. Calculate the the birth. Print a result saying the 'this person was born in' '''\n",
    "name=input(\"What's you name?\")\n",
    "age= input(\"Nice to meet you. How old are you?\")\n",
    "from datetime import date\n",
    "today= date.today()\n",
    "today.year\n",
    "birth= today.year-int(age)\n",
    "print(birth)"
   ]
  },
  {
   "cell_type": "code",
   "execution_count": 50,
   "metadata": {},
   "outputs": [
    {
     "name": "stdout",
     "output_type": "stream",
     "text": [
      "What's your firstname?Anne-Sophie\n",
      "Ok thank you. And now your lastname please?vienne\n",
      "Anne-Sophie vienne\n",
      "ANNE-SOPHIE VIENNE\n",
      "Anne-Sophie Vienne\n",
      "anne-sophie vienne\n",
      "Anne-sophie vienne\n"
     ]
    }
   ],
   "source": [
    "'''11) Ask the user to insert forenames, surnames. create a new variable (name) with your complete name.'''\n",
    "fn=input(\"What's your firstname?\")\n",
    "ln=input(\"Ok thank you. And now your lastname please?\")\n",
    "name=fn+\" \"+ln\n",
    "print(name)\n",
    "'''all the characters of the name are capitalized'''\n",
    "nameBig=(name).upper()\n",
    "print(nameBig)\n",
    "'''only the first character of each name (word) is capitalized'''\n",
    "nameTitle=(name).title()\n",
    "print(nameTitle)\n",
    "'''all the characters of the name are lower'''\n",
    "nameSmall=(name).lower()\n",
    "print(nameSmall)\n",
    "'''only the first charater of the first name is capitalized'''\n",
    "nameCapitalized=(name).capitalize()\n",
    "print(nameCapitalized)"
   ]
  },
  {
   "cell_type": "code",
   "execution_count": 32,
   "metadata": {},
   "outputs": [
    {
     "data": {
      "text/plain": [
       "9"
      ]
     },
     "execution_count": 32,
     "metadata": {},
     "output_type": "execute_result"
    }
   ],
   "source": [
    "''' 12) Use the follwoing method to show where in which carater appears the first \"de\"'''\n",
    "string=\"Je viens de l'île de la Réunion\"\n",
    "'''\n",
    "If it doesn't find \"de\", it shows \"-1\"\n",
    "'''\n",
    "string.find(\"de\",0,len(string))"
   ]
  },
  {
   "cell_type": "code",
   "execution_count": null,
   "metadata": {},
   "outputs": [],
   "source": []
  },
  {
   "cell_type": "code",
   "execution_count": null,
   "metadata": {},
   "outputs": [],
   "source": []
  },
  {
   "cell_type": "code",
   "execution_count": null,
   "metadata": {},
   "outputs": [],
   "source": []
  },
  {
   "cell_type": "code",
   "execution_count": null,
   "metadata": {},
   "outputs": [],
   "source": []
  }
 ],
 "metadata": {
  "kernelspec": {
   "display_name": "Python 3",
   "language": "python",
   "name": "python3"
  },
  "language_info": {
   "codemirror_mode": {
    "name": "ipython",
    "version": 3
   },
   "file_extension": ".py",
   "mimetype": "text/x-python",
   "name": "python",
   "nbconvert_exporter": "python",
   "pygments_lexer": "ipython3",
   "version": "3.7.3"
  }
 },
 "nbformat": 4,
 "nbformat_minor": 2
}
